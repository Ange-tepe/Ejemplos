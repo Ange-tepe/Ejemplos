{
  "nbformat": 4,
  "nbformat_minor": 0,
  "metadata": {
    "colab": {
      "name": "Untitled0.ipynb",
      "provenance": [],
      "authorship_tag": "ABX9TyMQgLqcZCVdv79/EF9L22Ez",
      "include_colab_link": true
    },
    "kernelspec": {
      "name": "python3",
      "display_name": "Python 3"
    }
  },
  "cells": [
    {
      "cell_type": "markdown",
      "metadata": {
        "id": "view-in-github",
        "colab_type": "text"
      },
      "source": [
        "<a href=\"https://colab.research.google.com/github/Ange-tepe/Ejemplos/blob/main/Ejemplos21_oct.ipynb\" target=\"_parent\"><img src=\"https://colab.research.google.com/assets/colab-badge.svg\" alt=\"Open In Colab\"/></a>"
      ]
    },
    {
      "cell_type": "code",
      "metadata": {
        "id": "Ybu8aKbEXcE1",
        "outputId": "4bf809a6-0b82-4eb0-b1ec-528d51443288",
        "colab": {
          "base_uri": "https://localhost:8080/",
          "height": 129
        }
      },
      "source": [
        ""
      ],
      "execution_count": null,
      "outputs": [
        {
          "output_type": "error",
          "ename": "SyntaxError",
          "evalue": "ignored",
          "traceback": [
            "\u001b[0;36m  File \u001b[0;32m\"<ipython-input-10-8c0bf925b8cb>\"\u001b[0;36m, line \u001b[0;32m23\u001b[0m\n\u001b[0;31m    else:\u001b[0m\n\u001b[0m       ^\u001b[0m\n\u001b[0;31mSyntaxError\u001b[0m\u001b[0;31m:\u001b[0m invalid syntax\n"
          ]
        }
      ]
    },
    {
      "cell_type": "code",
      "metadata": {
        "id": "LVhMh3vaqXnW",
        "outputId": "6318229b-644e-482c-e98c-da03117be408",
        "colab": {
          "base_uri": "https://localhost:8080/",
          "height": 119
        }
      },
      "source": [
        "def ejemploUno(n):\n",
        "#4\n",
        "    c=n+1\n",
        "    d=c*n\n",
        "    e=n*n\n",
        "    total=c+e-d\n",
        "    print(f\"total={total}\")\n",
        "ejemploUno(2)\n",
        "\n",
        "def ejemploDos(n):\n",
        "#1+n^2\n",
        "    contador=0\n",
        "    for i in range (n):\n",
        "        for j in range (n):\n",
        "            contador+=1\n",
        "    return contador\n",
        "print(ejemploDos(1))\n",
        "\n",
        "def ejemploTres (n):\n",
        "    #2+n\n",
        "    x=n*2\n",
        "    y=0\n",
        "    for m in range (100):\n",
        "        y=x-n\n",
        "    return y\n",
        "print(ejemploTres(10000000))\n",
        "\n",
        "def ejemploCuatro(n):\n",
        "#3\n",
        "    x =3*3.1416+n\n",
        "    y=x+3*3-n\n",
        "    z=x+y\n",
        "    return z\n",
        "print(ejemploCuatro(9))\n",
        "\n",
        "def ejemplo5(x):\n",
        "    #1+n\n",
        "    n=10\n",
        "    for j in range (0,x,1):\n",
        "        n=j+n\n",
        "    return n\n",
        "print(ejemplo5(10))\n",
        "\n",
        "def ejemplo6(n):\n",
        "    #t(n)=n^3+2\n",
        "    data =[[[1 for x in range (n)]for x in range (n) ]for x in range (n)]\n",
        "    suma =0\n",
        "    for d  in range (n):\n",
        "        for r in range (n):\n",
        "            for c in range (n):\n",
        "                suma += data [d][r][c]\n",
        "    return suma\n",
        "print(ejemplo6(10))\n"
      ],
      "execution_count": 1,
      "outputs": [
        {
          "output_type": "stream",
          "text": [
            "total=1\n",
            "1\n",
            "10000000\n",
            "36.849599999999995\n",
            "55\n",
            "1000\n"
          ],
          "name": "stdout"
        }
      ]
    },
    {
      "cell_type": "markdown",
      "metadata": {
        "id": "8wa1x08qcdIf"
      },
      "source": [
        ""
      ]
    }
  ]
}